{
 "cells": [
  {
   "cell_type": "markdown",
   "id": "5c028a8e",
   "metadata": {
    "id": "5c028a8e"
   },
   "source": [
    "# **Project: \"DetectaDiabetes\", Exploración predictiva de la diabetes, un análisis basado en el BRFSS 2015**\n",
    "- **Source**: UC Irvine Machine Learning Repository. (19 de Marzo del 2025). CDC Diabetes Health Indicators, enlace https://archive.ics.uci.edu/dataset/891/cdc+diabetes+health+indicators\n",
    "- **Date**: 25/09/23\n",
    "- **Goal**: Create a basic prediction model and a feature explainer"
   ]
  },
  {
   "cell_type": "markdown",
   "id": "f7861c95",
   "metadata": {
    "id": "f7861c95"
   },
   "source": [
    "- 1. Introduccion\n",
    "- 2. Conceptos\n",
    "- 3. Hipotesis\n",
    "- 4. Preprocesamiento\n",
    "- 5. EDA\n",
    "- 6. Desarrollo de modelos de machine learning\n",
    "- 7. Comparacion de modelos\n",
    "- 8. Visualizacion del modelo\n",
    "- 9. Conclusiones y recomendaciones\n",
    "- 10. Referencias (apa)"
   ]
  },
  {
   "cell_type": "markdown",
   "id": "b2096a29",
   "metadata": {
    "id": "b2096a29"
   },
   "source": [
    "## **1. Introducción**\n",
    "\n",
    "Este proyecto aborda el tema de la diabetes, una enfermedad crónica que afecta a millones de personas en todo el mundo y tiene un impacto significativo en la calidad de vida y en los sistemas de salud. La detección temprana y el análisis de factores de riesgo son esenciales para desarrollar medidas preventivas eficaces. En este contexto, el presente proyecto se centra en el uso de técnicas de *machine learning* para analizar datos del conjunto **BRFSS** (Behavioral Risk Factor Surveillance System). Su objetivo principal es identificar patrones y construir modelos predictivos que permitan estimar el riesgo de diabetes considerando variables como factores demográficos, conductuales y de salud."
   ]
  },
  {
   "cell_type": "markdown",
   "id": "64228862",
   "metadata": {
    "id": "64228862"
   },
   "source": [
    "## **2. Conceptos**\n",
    "\n",
    "### **2.1 Diabetes**\n",
    "Enfermedad crónica que afecta la forma en que el cuerpo utiliza la glucosa.\n",
    "Puede causar daño a órganos y sistemas si no se controla adecuadamente.\n",
    "\n",
    "### **2.2 Tipos de diabetes**\n",
    "\n",
    "- Tipo 1: El cuerpo no produce insulina (autoinmune).\n",
    "- Tipo 2: El cuerpo no usa correctamente la insulina (más común).\n",
    "- Gestacional: Ocurre durante el embarazo.\n",
    "- Prediabetes: Glucosa elevada, pero no suficiente para diagnóstico.\n",
    "- Otros tipos: Monogénica o inducida por daño al páncreas.\n",
    "\n",
    "### **2.3 Hiperglucemia**\n",
    "Elevación de los niveles de glucosa en sangre, consecuencia común de la diabetes no controlada.\n",
    "\n",
    "### **2.4 BRFSS (Behavioral Risk Factor Surveillance System)**\n",
    "El Sistema de Vigilancia de Factores de Riesgo Conductuales (BRFSS) es una encuesta telefónica sobre salud que los CDC recopilan anualmente. Cada año, la encuesta recopila respuestas de más de 400,000 estadounidenses sobre conductas de riesgo para la salud, enfermedades crónicas y el uso de servicios preventivos. Se lleva a cabo anualmente desde 1984. Para este proyecto, se utilizó un archivo CSV del conjunto de datos disponible en Kaggle para el año 2015.\n",
    "\n",
    "### **2.5 Modelos predictivos**\n",
    "Herramientas basadas en algoritmos de aprendizaje automático que permiten anticipar el riesgo de enfermedades como la diabetes.\n",
    "\n",
    "### **2.6 Prevención temprana**\n",
    "Intervenciones proactivas que se basan en la predicción del riesgo para evitar o retrasar la aparición de enfermedades.\n",
    "\n",
    "### **2.7 Carga económica de la diabetes**\n",
    "En 2017, la diabetes costó a EE. UU. más de $245 mil millones en atención médica, lo que resalta su impacto en la economía y el sistema de salud.\n",
    "\n",
    "### **2.8 Dataset BRFSS 2015**\n",
    "Conjunto de datos que incluye información demográfica, de salud y estilo de vida, con 35 variables, utilizado para entrenar modelos de clasificación para detectar diabetes y prediabetes."
   ]
  },
  {
   "cell_type": "markdown",
   "id": "3b92bb81",
   "metadata": {
    "id": "3b92bb81"
   },
   "source": [
    "## **3. Hipotesis**\n",
    "\n",
    "Se plantea que las variables contenidas en el dataset BRFSS poseen una relación significativa y son predictivas de la aparición de casos de diabetes en la población estudiada."
   ]
  },
  {
   "cell_type": "markdown",
   "id": "aea2afda",
   "metadata": {
    "id": "aea2afda"
   },
   "source": [
    "![Diagrama diabetes](/content/DIAGRAMA_DETECTADIABETES.png)"
   ]
  },
  {
   "cell_type": "markdown",
   "id": "71c0e6db",
   "metadata": {
    "id": "71c0e6db"
   },
   "source": [
    "## **4. Preprocesamiento**"
   ]
  },
  {
   "cell_type": "code",
   "execution_count": null,
   "id": "ea1c9f26",
   "metadata": {
    "id": "ea1c9f26"
   },
   "outputs": [],
   "source": [
    "import pickle\n",
    "import logging\n",
    "import pandas as pd\n",
    "import numpy as np\n",
    "import matplotlib.pyplot as plt\n",
    "import seaborn as sns\n",
    "from sklearn.model_selection import (\n",
    "    train_test_split,\n",
    "    GridSearchCV,\n",
    "    RandomizedSearchCV\n",
    ")\n",
    "from sklearn.preprocessing import (\n",
    "    MinMaxScaler,\n",
    "    LabelEncoder,\n",
    "    OneHotEncoder\n",
    ")\n",
    "from sklearn.compose import(\n",
    "    ColumnTransformer\n",
    ")\n",
    "from sklearn.pipeline import Pipeline\n",
    "from sklearn.ensemble import (\n",
    "    RandomForestClassifier,\n",
    "    GradientBoostingClassifier,\n",
    "    HistGradientBoostingClassifier\n",
    ")\n",
    "from xgboost import XGBClassifier\n",
    "from sklearn.metrics import (\n",
    "    accuracy_score,\n",
    "    f1_score,\n",
    "    matthews_corrcoef,\n",
    "    recall_score,\n",
    "    classification_report,\n",
    "    ConfusionMatrixDisplay,\n",
    "    precision_score,\n",
    "    RocCurveDisplay\n",
    ")\n",
    "from sklearn.inspection import(\n",
    "    permutation_importance\n",
    ")\n",
    "from imblearn.pipeline import Pipeline as ImbPipeline\n",
    "from imblearn.over_sampling import SMOTE\n",
    "logger = logging.getLogger()\n",
    "logger.setLevel(logging.ERROR)"
   ]
  },
  {
   "cell_type": "markdown",
   "id": "62c433a2",
   "metadata": {
    "id": "62c433a2"
   },
   "source": [
    "### **4.1. Carga de datos**\n",
    "**Objetivo**: Obtener los datos de la fuente y una primera visión de sus propiedades y presentación"
   ]
  },
  {
   "cell_type": "markdown",
   "id": "I_uVRYS0BVCP",
   "metadata": {
    "id": "I_uVRYS0BVCP"
   },
   "source": [
    "La base usada tiene dos clases: 0 para ausencia de diabetes y 1 para prediabetes o diabetes. Este conjunto de datos tiene 21 variables características y no está balanceado."
   ]
  },
  {
   "cell_type": "code",
   "execution_count": null,
   "id": "81a2e28d",
   "metadata": {
    "colab": {
     "base_uri": "https://localhost:8080/"
    },
    "id": "81a2e28d",
    "outputId": "db04df18-49c9-426d-d73f-70adb614b718"
   },
   "outputs": [],
   "source": [
    "df_raw = pd.read_csv('../data/raw/diabetes_binary_health_indicators_BRFSS2015.csv')\n",
    "df_raw.info()"
   ]
  },
  {
   "cell_type": "code",
   "execution_count": null,
   "id": "51d12f9d",
   "metadata": {
    "colab": {
     "base_uri": "https://localhost:8080/",
     "height": 363
    },
    "id": "51d12f9d",
    "outputId": "e9a035c8-b27e-4492-9584-086bf72ff417"
   },
   "outputs": [],
   "source": [
    "df_raw.sample(10, random_state=2025).iloc[:, :10]"
   ]
  },
  {
   "cell_type": "markdown",
   "id": "cda3f29d",
   "metadata": {
    "id": "cda3f29d"
   },
   "source": [
    "Al analizar las primeras 10 columnas, se observa que todas las variables, excepto 'BMI', son binarias. Por lo tanto, es necesario categorizarlas durante el preprocesamiento."
   ]
  },
  {
   "cell_type": "code",
   "execution_count": null,
   "id": "d7b4e132",
   "metadata": {
    "colab": {
     "base_uri": "https://localhost:8080/",
     "height": 363
    },
    "id": "d7b4e132",
    "outputId": "8699551f-c956-4a71-c118-e165ef152844"
   },
   "outputs": [],
   "source": [
    "df_raw.sample(10, random_state=2025).iloc[:, 11:22]"
   ]
  },
  {
   "cell_type": "markdown",
   "id": "1176fa54",
   "metadata": {
    "id": "1176fa54"
   },
   "source": [
    "En las últimas 10 columnas, se observa que casi la mitad de las variables son binarias. Por lo tanto, es necesario aplicar el mismo tratamiento de categorización. En cuanto a las demás variables, 'GenHlth' es una escala ordinal, por lo que se puede mantener como numérica, ya que el 5 representa una mayor importancia que el 1 y podría beneficiar al algoritmo. Lo mismo ocurre con 'MentHlth', 'PhysHlth', 'Education' y 'Income'."
   ]
  },
  {
   "cell_type": "markdown",
   "id": "42fde9ca",
   "metadata": {
    "id": "42fde9ca"
   },
   "source": [
    "#### **Diccionario**\n",
    "|Nombre|Tipo|Descripción|\n",
    "|----|----|-----------|\n",
    "| Diabetes_binary| Binary  | 0 is for no diabetes or only during pregnancy, 1 is for prediabetes and for diabetes.                                           |\n",
    "| HighBP                | Binary  | 0 = no high BP, 1 = high BP                                                                               |\n",
    "| HighChol              | Binary  | 0 = no high cholesterol, 1 = high cholesterol                                                             |\n",
    "| CholCheck             | Binary  | 0 = no cholesterol check in 5 years, 1 = yes                                                              |\n",
    "| BMI                   | Integer | Body Mass Index                                                                                           |\n",
    "| Smoker                | Binary  | Smoked at least 100 cigarettes in your life? 0 = no, 1 = yes                                              |\n",
    "| Stroke                | Binary  | Ever told you had a stroke. 0 = no, 1 = yes                                                               |\n",
    "| HeartDiseaseorAttack | Binary  | Coronary heart disease or myocardial infarction. 0 = no, 1 = yes                                          |\n",
    "| PhysActivity          | Binary  | Physical activity in past 30 days (not job-related). 0 = no, 1 = yes                                      |\n",
    "| Fruits                | Binary  | Consume fruit ≥1 times per day. 0 = no, 1 = yes                                                           |\n",
    "| Veggies               | Binary  | Consume vegetables ≥1 times per day. 0 = no, 1 = yes                                                      |\n",
    "| HvyAlcoholConsump     | Binary  | Heavy drinker (men >14 drinks/week, women >7). 0 = no, 1 = yes                                           |\n",
    "| AnyHealthcare         | Binary  | Any kind of health coverage. 0 = no, 1 = yes                                                              |\n",
    "| NoDocbcCost           | Binary  | Couldn’t see doctor due to cost. 0 = no, 1 = yes                                                          |\n",
    "| GenHlth               | Integer | General health: 1 = excellent, 5 = poor                                                                   |\n",
    "| MentHlth              | Integer | Days mental health was not good (past 30 days). Scale 1–30                                               |\n",
    "| PhysHlth              | Integer | Days physical health was not good (past 30 days). Scale 1–30                                             |\n",
    "| DiffWalk              | Binary  | Difficulty walking/climbing stairs. 0 = no, 1 = yes                                                       |\n",
    "| Sex                   | Binary  | 0 = female, 1 = male                                                                                      |\n",
    "| Age                   | Integer | 13-level age category (_AGEG5YR see codebook) 1 = 18-24 9 = 60-64 13 = 80 or older |\n",
    "| Education             | Integer | scale 1-6 1 = Never attended school or only kindergarten 2 = Grades 1 through 8 (Elementary) 3 = Grades 9 through 11 (Some high school) 4 = Grade 12 or GED (High school graduate) 5 = College 1 year to 3 years (Some college or technical school) 6 = College 4 years or more (College graduate)|\n",
    "| Income                | Integer | Income scale: 1 = < $10k,  5 = < $35k, 8 = $75k+                                                           |"
   ]
  },
  {
   "cell_type": "markdown",
   "id": "86421454",
   "metadata": {
    "id": "86421454"
   },
   "source": [
    "### **4.2. Preprocesamiento de datos**\n",
    "**Objetivos**: Realizar los pasos de limpieza, transformación y reducción de datos para evitar discrepancias, ruido o datos no procesados."
   ]
  },
  {
   "cell_type": "code",
   "execution_count": null,
   "id": "d304de76",
   "metadata": {
    "colab": {
     "base_uri": "https://localhost:8080/"
    },
    "id": "d304de76",
    "outputId": "4038b103-1ae0-4277-ea28-d2c7d1092b66"
   },
   "outputs": [],
   "source": [
    "df_baking = df_raw.copy()\n",
    "df_baking.columns = df_baking.columns.str.lower()\n",
    "df_baking['diabetes_binary'] = df_baking['diabetes_binary'].map({0:'no_diabetes', 1 : 'diabetes'})\n",
    "df_baking['diabetes'] = df_baking['diabetes_binary'].astype('category')\n",
    "df_baking = df_baking.drop(['diabetes_binary', 'cholcheck', 'stroke', 'anyhealthcare','heartdiseaseorattack'], axis=1)\n",
    "# se eliminan estas variables por su baja variabilidad\n",
    "df_baking['highbp'] = df_baking['highbp'].map({0:'no', 1 : 'yes'})\n",
    "df_baking['highbp'] = df_baking['highbp'].astype('category')\n",
    "df_baking['highchol'] = df_baking['highchol'].map({0:'no', 1 : 'yes'})\n",
    "df_baking['highchol'] = df_baking['highchol'].astype('category')\n",
    "df_baking['smoker'] = df_baking['smoker'].map({0:'no', 1 : 'yes'})\n",
    "df_baking['smoker'] = df_baking['smoker'].astype('category')\n",
    "df_baking['physactivity'] = df_baking['physactivity'].map({0:'no', 1 : 'yes'})\n",
    "df_baking['physactivity'] = df_baking['physactivity'].astype('category')\n",
    "df_baking['fruits'] = df_baking['fruits'].map({0:'no', 1 : 'yes'})\n",
    "df_baking['fruits'] = df_baking['fruits'].astype('category')\n",
    "df_baking['veggies'] = df_baking['veggies'].map({0:'no', 1 : 'yes'})\n",
    "df_baking['veggies'] = df_baking['veggies'].astype('category')\n",
    "df_baking['hvyalcoholconsump'] = df_baking['hvyalcoholconsump'].map({0:'no', 1 : 'yes'})\n",
    "df_baking['hvyalcoholconsump'] = df_baking['hvyalcoholconsump'].astype('category')\n",
    "df_baking['nodocbccost'] = df_baking['nodocbccost'].map({0:'no', 1 : 'yes'})\n",
    "df_baking['nodocbccost'] = df_baking['nodocbccost'].astype('category')\n",
    "df_baking['diffwalk'] = df_baking['diffwalk'].map({0:'no', 1 : 'yes'})\n",
    "df_baking['diffwalk'] = df_baking['diffwalk'].astype('category')\n",
    "df_baking['sex'] = df_baking['sex'].map({0:'female', 1 : 'male'})\n",
    "df_baking['sex'] = df_baking['sex'].astype('category')\n",
    "df_baking = df_baking[(df_baking[\"age\"] > 3) & (df_baking[\"age\"] < 10)] #esto es por niveles\n",
    "df_baking['age'] = df_baking['age'].map({4:'entre_35_y_44', 5:'entre_35_y_44', 6:'entre_45_y_54', 7:'entre_45_y_54', 8:'entre_55_y_64', 9:'entre_55_y_64'})\n",
    "df_baking['age'] = df_baking['age'].astype('category')\n",
    "df_baking = df_baking[(df_baking[\"bmi\"] < 51)]\n",
    "df = df_baking.copy()\n",
    "df.info()"
   ]
  },
  {
   "cell_type": "markdown",
   "id": "eho73g7XTUky",
   "metadata": {
    "id": "eho73g7XTUky"
   },
   "source": [
    "En el analisis univariado y bivariado, se obervo que las edades donde hay mas casos de Diabetes esta entre los 35 y 64 años, por eso se decidio filtrar la data, para mejorar el rendimiento del modelo.\n",
    "\n",
    "En este paso, tambien se filtra los registros con un BMI menor a 51, segun lo documentado, se observa que para los hombres el mas alto es 41.2 y para mujeres es 45.2, por tanto valores mas alto indican obesidad extrema *[6]"
   ]
  },
  {
   "cell_type": "code",
   "execution_count": null,
   "id": "bda57a03",
   "metadata": {
    "colab": {
     "base_uri": "https://localhost:8080/",
     "height": 412
    },
    "id": "bda57a03",
    "outputId": "1b7cff4d-559f-43eb-cb62-01a84bfd99b6"
   },
   "outputs": [],
   "source": [
    "df.sample(10, random_state=2025)"
   ]
  },
  {
   "cell_type": "code",
   "execution_count": null,
   "id": "1ffc9371",
   "metadata": {
    "colab": {
     "base_uri": "https://localhost:8080/",
     "height": 178
    },
    "id": "1ffc9371",
    "outputId": "7c028c5b-6fa0-47c8-b4bc-e5527f42b23e"
   },
   "outputs": [],
   "source": [
    "df['diabetes'].value_counts(normalize=True)"
   ]
  },
  {
   "cell_type": "markdown",
   "id": "44cdb913",
   "metadata": {
    "id": "44cdb913"
   },
   "source": [
    "Se observa que la variable objetivo esta desbalanceada, como ya se menciono anteriormente, el 88% de la base a estudiar \"no tiene diabetes\" y el 12% restante representa a las personas \"con diabetes\". Cabe destacar que este dataset concuerda con los estudios que se hacen anualmente, que indican que en Estados Unidos alrededor de 12% de la población padece Diabetes."
   ]
  },
  {
   "cell_type": "markdown",
   "id": "5f88a36a",
   "metadata": {
    "id": "5f88a36a"
   },
   "source": [
    "## **5. Análisis exploratorio de datos**\n",
    "**Objetivo**: Resumir las principales características del conjunto de datos mediante estadística descriptiva y métodos de visualización de datos."
   ]
  },
  {
   "cell_type": "code",
   "execution_count": null,
   "id": "6e36d4f7",
   "metadata": {
    "colab": {
     "base_uri": "https://localhost:8080/"
    },
    "id": "6e36d4f7",
    "outputId": "d378486f-7383-4ac7-c845-5688d0744406"
   },
   "outputs": [],
   "source": [
    "df_train, df_test = train_test_split(\n",
    "    df, test_size=0.2,\n",
    "    stratify=df['diabetes'], # si es clasificacion siempre se debe usar 'stratify'\n",
    "    random_state=2025\n",
    ")\n",
    "df_train, df_val = train_test_split(\n",
    "    df_train, test_size=0.20,\n",
    "    stratify=df_train['diabetes'],\n",
    "    random_state=2025\n",
    ")\n",
    "df_train.reset_index(drop=True, inplace=True)\n",
    "df_val.reset_index(drop=True, inplace=True)\n",
    "df_test.reset_index(drop=True, inplace=True)\n",
    "df_train.shape, df_val.shape, df_test.shape"
   ]
  },
  {
   "cell_type": "code",
   "execution_count": null,
   "id": "299107cb",
   "metadata": {
    "colab": {
     "base_uri": "https://localhost:8080/",
     "height": 488
    },
    "id": "299107cb",
    "outputId": "463519b9-938a-4f7e-b802-6d560f6adf53"
   },
   "outputs": [],
   "source": [
    "display(df_train.describe(include='category').T)"
   ]
  },
  {
   "cell_type": "markdown",
   "id": "9fc88740",
   "metadata": {
    "id": "9fc88740"
   },
   "source": [
    "En el describe de las varibales categóricas, se puede observar lo siguiente:\n",
    "- 'highbp': tiene como valor top \"no\", que representa el 63.6% de la base de train.\n",
    "- 'highchol': tiene como valor top \"no\", que representa el 60.8% de la base de train.\n",
    "- 'smoker': tiene como valor top \"no\", que representa el 57.6% de la base de train.\n",
    "- 'physactivity': tiene como valor top \"yes\", que representa el 76.6% de la base de train, esta desbalanceada pero no tanto como las otras.\n",
    "- 'fruits': tiene como valor top \"yes\", que representa el 61.5% de la base de train.\n",
    "- 'veggies': tiene como valor top \"yes\", que representa el 81.4% de la base de train, esta desbalanceada, se evaluara cuando se hagan los análisis.\n",
    "- 'hvyalcoholconsump': tiene como valor top \"no\", que representa el 93.9% de la base de train, se debe considerar si usarla o no porque esta muy desbalanceada.\n",
    "- 'nodocbccost': tiene como valor top \"no\", que representa el 89.4% de la base de train, se debe considerar si usarla o no porque esta muy desbalanceada.\n",
    "- 'diffwalk': tiene como valor top \"no\", que representa el 85.9% de la base de train, se debe revisar si usarla o no porque esta desbalanceada.\n",
    "- 'sex': tiene como valor top \"female\", que representa el 55.6% de la base de train, se puede decir que esta casi balanceada en cuanto al género.\n",
    "- 'age': se observa que la clase mayoritaria es \"enter_55_y_64\", representa el 45.7% del total."
   ]
  },
  {
   "cell_type": "code",
   "execution_count": null,
   "id": "68aea427",
   "metadata": {
    "colab": {
     "base_uri": "https://localhost:8080/",
     "height": 300
    },
    "id": "68aea427",
    "outputId": "8405e58d-bade-4e07-fd93-b7d068fb8d23"
   },
   "outputs": [],
   "source": [
    "display(df_train.describe(include='number').T)"
   ]
  },
  {
   "cell_type": "markdown",
   "id": "bea9e941",
   "metadata": {
    "id": "bea9e941"
   },
   "source": [
    "Al analizar las variables, se observa que en 'BMI' la diferencia entre el mínimo y el primer cuartil es de 12, mientras que entre el tercer cuartil y el valor máximo la diferencia es aún mayor. Se revisó la distribución del BMI en Estados Unidos para descartar posibles valores atípicos. Las variables 'MentHlth' y 'PhysHlth' muestran una concentración entre el primer cuartil y la mediana, mientras que 'GenHlth', 'Education' e 'Income' tienen una distribución similar."
   ]
  },
  {
   "cell_type": "code",
   "execution_count": null,
   "id": "4fc3fd25",
   "metadata": {
    "colab": {
     "base_uri": "https://localhost:8080/",
     "height": 449
    },
    "id": "4fc3fd25",
    "outputId": "b0c5b2a4-629a-42ef-c6ae-c1d661fad989"
   },
   "outputs": [],
   "source": [
    "sns.boxplot(data=df_train, x='bmi')\n",
    "plt.show()"
   ]
  },
  {
   "cell_type": "markdown",
   "id": "65dfb16d",
   "metadata": {
    "id": "65dfb16d"
   },
   "source": [
    "En este gráfico, se observa mas detallada la variable 'BMI', lo que se puede decir a simple vista es que por encima de 40 hay valores, aún cuando la base se filtro para descartar tantos valores anomalos.\n"
   ]
  },
  {
   "cell_type": "markdown",
   "id": "c681adc4",
   "metadata": {
    "id": "c681adc4"
   },
   "source": [
    "#### **4.3.1 Análisis Univariado**"
   ]
  },
  {
   "cell_type": "code",
   "execution_count": null,
   "id": "1b4fadc1",
   "metadata": {
    "colab": {
     "base_uri": "https://localhost:8080/",
     "height": 1000
    },
    "id": "1b4fadc1",
    "outputId": "704be8d2-1bd9-450b-fa6f-beebea0a7c7b"
   },
   "outputs": [],
   "source": [
    "df_train.hist(figsize=(10,10))\n",
    "plt.tight_layout()\n",
    "plt.show()"
   ]
  },
  {
   "cell_type": "markdown",
   "id": "cc233648",
   "metadata": {
    "id": "cc233648"
   },
   "source": [
    "En el análisis univariado, se observa en detalle la distribución de las variables. 'BMI' sigue una distribución aproximadamente normal, aunque presenta una cola derecha debido a la presencia de valores atípicos. Por otro lado, 'menthlth' y 'physhlth' están fuertemente concentradas en 0, con una ligera cola derecha en sus distribuciones. Las variables ordinales exhiben una distribución multimodal."
   ]
  },
  {
   "cell_type": "code",
   "execution_count": null,
   "id": "113f87bb",
   "metadata": {
    "colab": {
     "base_uri": "https://localhost:8080/",
     "height": 1000
    },
    "id": "113f87bb",
    "outputId": "431cb832-8591-4886-93ed-91c9eae3f2e5"
   },
   "outputs": [],
   "source": [
    "fig, ax = plt.subplots(4,3, figsize=(23,20))\n",
    "sns.countplot(data = df_train, y = 'highbp', ax = ax[0,0])\n",
    "sns.countplot(data = df_train, y = 'highchol', ax = ax[0,1])\n",
    "sns.countplot(data = df_train, y = 'smoker', ax = ax[0,2])\n",
    "sns.countplot(data = df_train, y = 'physactivity', ax = ax[1,0])\n",
    "sns.countplot(data = df_train, y = 'fruits', ax = ax[1,1])\n",
    "sns.countplot(data = df_train, y = 'veggies', ax = ax[1,2])\n",
    "sns.countplot(data = df_train, y = 'hvyalcoholconsump', ax = ax[2,0])\n",
    "sns.countplot(data = df_train, y = 'nodocbccost', ax = ax[2,1])\n",
    "sns.countplot(data = df_train, y = 'diffwalk', ax = ax[2,2])\n",
    "sns.countplot(data = df_train, y = 'sex', ax = ax[3,0])\n",
    "sns.countplot(data = df_train, y = 'age', ax = ax[3,1])\n",
    "# eliminar grafico vacio\n",
    "ax[3,2].set_visible(False)\n",
    "plt.show()"
   ]
  },
  {
   "cell_type": "markdown",
   "id": "1e9533a9",
   "metadata": {
    "id": "1e9533a9"
   },
   "source": [
    "Los gráficos de las variables categóricas confirman lo señalado en la sección 'describe'. Se observa que algunas variables presentan un marcado desequilibrio, mientras que en otras las diferencias no son tan significativas.\n"
   ]
  },
  {
   "cell_type": "markdown",
   "id": "26fdee0d",
   "metadata": {
    "id": "26fdee0d"
   },
   "source": [
    "##### **4.3.2 Bivariate Analysis**"
   ]
  },
  {
   "cell_type": "code",
   "execution_count": null,
   "id": "6114371b",
   "metadata": {
    "colab": {
     "base_uri": "https://localhost:8080/",
     "height": 1000
    },
    "id": "6114371b",
    "outputId": "45fc8e9b-ad35-442b-cdb4-504ca5e8a4eb"
   },
   "outputs": [],
   "source": [
    "num = ['bmi', 'genhlth', 'menthlth', 'physhlth', 'age', 'education', 'income','diabetes']\n",
    "sns.pairplot(df_train[num], hue='diabetes', corner=True)\n",
    "plt.show()"
   ]
  },
  {
   "cell_type": "markdown",
   "id": "170ef3ac",
   "metadata": {
    "id": "170ef3ac"
   },
   "source": [
    "En el análisis bivariado de las variables numéricas, no se visualiza ninguna relación aparente entre estas variables."
   ]
  },
  {
   "cell_type": "code",
   "execution_count": null,
   "id": "35658a12",
   "metadata": {
    "colab": {
     "base_uri": "https://localhost:8080/",
     "height": 1000
    },
    "id": "35658a12",
    "outputId": "f5936d3f-ae9d-4005-ca94-df427198fe48"
   },
   "outputs": [],
   "source": [
    "fig, ax = plt.subplots(4,3, figsize=(23,20))\n",
    "sns.countplot(data = df_train, hue= 'diabetes', y = 'highbp', ax = ax[0,0])\n",
    "sns.countplot(data = df_train, hue= 'diabetes', y = 'highchol', ax = ax[0,1])\n",
    "sns.countplot(data = df_train, hue= 'diabetes', y = 'smoker', ax = ax[0,2])\n",
    "sns.countplot(data = df_train, hue= 'diabetes', y = 'physactivity', ax = ax[1,0])\n",
    "sns.countplot(data = df_train, hue= 'diabetes', y = 'fruits', ax = ax[1,1])\n",
    "sns.countplot(data = df_train, hue= 'diabetes', y = 'veggies', ax = ax[1,2])\n",
    "sns.countplot(data = df_train, hue= 'diabetes', y = 'hvyalcoholconsump', ax = ax[2,0])\n",
    "sns.countplot(data = df_train, hue= 'diabetes', y = 'nodocbccost', ax = ax[2,1])\n",
    "sns.countplot(data = df_train, hue= 'diabetes', y = 'diffwalk', ax = ax[2,2])\n",
    "sns.countplot(data = df_train, hue= 'diabetes', y = 'sex', ax = ax[3,0])\n",
    "sns.countplot(data = df_train, hue= 'diabetes', y = 'age', ax = ax[3,1])\n",
    "# eliminar grafico vacio\n",
    "ax[3,2].set_visible(False)\n",
    "plt.show()"
   ]
  },
  {
   "cell_type": "markdown",
   "id": "d3e17623",
   "metadata": {
    "id": "d3e17623"
   },
   "source": [
    "En el análisis bivariado, se observa que, en la mayoría de las variables, la clase mayoritaria presenta la mayor proporción de casos de diabetes. Algunos hallazgos interesantes incluyen la variable 'nodocbccost', donde la respuesta 'yes' está asociada a una baja representación de casos de diabetes en el gráfico de barras. En cuanto a 'sex', se nota que 'female' es la clase mayoritaria tanto entre personas con diabetes como sin ella. Por otro lado, en el gráfico de 'age', se evidencia un incremento en el número de casos de diabetes a medida que aumenta la edad, alcanzando su punto más alto en el grupo 'entre_55_y_64'."
   ]
  },
  {
   "cell_type": "code",
   "execution_count": null,
   "id": "a2f2570d",
   "metadata": {
    "colab": {
     "base_uri": "https://localhost:8080/",
     "height": 522
    },
    "id": "a2f2570d",
    "outputId": "c64d01a7-7afc-46c8-a029-103e346c6124"
   },
   "outputs": [],
   "source": [
    "# Filtrar solo columnas numéricas\n",
    "numericas = df_train.select_dtypes(include=['float']).columns\n",
    "\n",
    "# Calcular la correlación para las columnas numéricas\n",
    "corr_matrix = df_train[numericas].corr()\n",
    "\n",
    "# Crear el heatmap\n",
    "sns.heatmap(\n",
    "    corr_matrix,\n",
    "    vmin=-1, vmax=1, annot=True, cmap='RdBu'\n",
    ")\n",
    "plt.title('Mapa de calor de correlaciones')\n",
    "plt.show()"
   ]
  },
  {
   "cell_type": "markdown",
   "id": "dc76907d",
   "metadata": {
    "id": "dc76907d"
   },
   "source": [
    "La matriz de correlación no proporciona información significativa sobre la relación entre las variables. Esto se debe a que la mayoría de ellas son binarias o corresponden a escalas de satisfacción, lo que puede hacer que este método no sea el más adecuado para analizar sus interdependencias."
   ]
  },
  {
   "cell_type": "markdown",
   "id": "62eeca4e",
   "metadata": {
    "id": "62eeca4e"
   },
   "source": [
    "## **6. Desarrollo de modelos de machine learning**\n",
    "**Objetivo**: Crear un modelo que aprenda de los datos para hacer predicciones y generalizar a datos desconocidos, y así realizar tareas sin instrucciones explícitas."
   ]
  },
  {
   "cell_type": "markdown",
   "id": "56IvrkG82zm2",
   "metadata": {
    "id": "56IvrkG82zm2"
   },
   "source": [
    "Estas son las mejores variables encontradas para reducir las dimensiones y optimizar el  modelo"
   ]
  },
  {
   "cell_type": "code",
   "execution_count": null,
   "id": "f45033a9",
   "metadata": {},
   "outputs": [],
   "source": [
    "X_train = df_train.drop('diabetes', axis=1)\n",
    "y_train = df_train['diabetes']\n",
    "X_val = df_val.drop('diabetes', axis=1)\n",
    "y_val = df_val['diabetes']\n",
    "X_test = df_test.drop('diabetes', axis=1)\n",
    "y_test = df_test['diabetes']"
   ]
  },
  {
   "cell_type": "code",
   "execution_count": null,
   "id": "5350caff",
   "metadata": {
    "id": "5350caff"
   },
   "outputs": [],
   "source": [
    "label_encoder = LabelEncoder()\n",
    "y_train_enc = label_encoder.fit_transform(y_train)\n",
    "y_val_enc = label_encoder.transform(y_val)\n",
    "y_test_enc = label_encoder.transform(y_test)"
   ]
  },
  {
   "cell_type": "code",
   "execution_count": null,
   "id": "954f2a6c",
   "metadata": {
    "id": "954f2a6c"
   },
   "outputs": [],
   "source": [
    "cat_cols = X_train.select_dtypes(\"category\").columns\n",
    "\n",
    "num_cols = X_train.select_dtypes(\"number\").columns\n",
    "cat_proc = Pipeline([\n",
    "    (\"one_hot\",OneHotEncoder(drop=\"first\"))\n",
    "])\n",
    "num_proc = Pipeline([\n",
    "    (\"scaler\",MinMaxScaler())\n",
    "])\n",
    "proccesor = ColumnTransformer([\n",
    "    (\"cat\",cat_proc,cat_cols),\n",
    "    (\"num\",num_proc,num_cols)\n",
    "])"
   ]
  },
  {
   "cell_type": "markdown",
   "id": "sLmLxYCCWzIz",
   "metadata": {
    "id": "sLmLxYCCWzIz"
   },
   "source": [
    "## **7. Comparación de modelos**"
   ]
  },
  {
   "cell_type": "markdown",
   "id": "grjj_ajqK1VE",
   "metadata": {
    "id": "grjj_ajqK1VE"
   },
   "source": [
    "--------------------------------------------------------------------------------\n",
    "Modelo 1\n",
    "--------------------------------------------------------------------------------\n",
    "--------------------------------------------------------------------------------\n"
   ]
  },
  {
   "cell_type": "code",
   "execution_count": null,
   "id": "071634aa",
   "metadata": {
    "id": "071634aa"
   },
   "outputs": [],
   "source": [
    "clf_histboost_p = Pipeline([\n",
    "    ('proccesor', proccesor),\n",
    "    ('histboost', HistGradientBoostingClassifier(random_state=2025, class_weight='balanced'))\n",
    "])"
   ]
  },
  {
   "cell_type": "code",
   "execution_count": null,
   "id": "EKP8RzGrR95K",
   "metadata": {
    "id": "EKP8RzGrR95K"
   },
   "outputs": [],
   "source": [
    "param_distributions = {\n",
    "    'histboost__max_iter': [50, 80, 100],  # Número de iteraciones\n",
    "    'histboost__learning_rate': [0.01, 0.1, 0.2],  # Tasa de aprendizaje\n",
    "    'histboost__max_depth': [None, 3, 4, 5]  # Profundidad máxima\n",
    "}\n",
    "\n",
    "# Aplicar RandomizedSearchCV\n",
    "clf_histboost_cv = RandomizedSearchCV(\n",
    "    clf_histboost_p,\n",
    "    param_distributions=param_distributions,\n",
    "    #n_iter=10,  # Número de combinaciones a probar\n",
    "    cv=5,  # Validación cruzada\n",
    "    scoring='recall',  # Métrica de evaluación\n",
    "    n_jobs=-1,  # Paralelización\n",
    "    random_state=42\n",
    ")\n",
    "\n",
    "clf_histboost_cv.fit(X_train, y_train_enc)\n",
    "clf_histboost_cv.best_params_"
   ]
  },
  {
   "cell_type": "code",
   "execution_count": null,
   "id": "cqWdgA2XZd2Z",
   "metadata": {
    "id": "cqWdgA2XZd2Z"
   },
   "outputs": [],
   "source": [
    "y_hat_val = clf_histboost_cv.best_estimator_.predict(X_val)\n",
    "print(f'accuracy: {accuracy_score(y_val_enc, y_hat_val):.2f}')\n",
    "print(f\"f1_score: {f1_score(y_val_enc, y_hat_val, average='weighted'):.2f}\")\n",
    "print(f'matthews_corrcoef: {matthews_corrcoef(y_val_enc, y_hat_val):.2f}')\n",
    "print(classification_report(y_val_enc,y_hat_val,target_names= label_encoder.classes_))\n",
    "ConfusionMatrixDisplay.from_predictions(y_val_enc, y_hat_val, display_labels= label_encoder.classes_)\n",
    "plt.show()"
   ]
  },
  {
   "cell_type": "code",
   "execution_count": null,
   "id": "ahg2UNQwZjWq",
   "metadata": {
    "id": "ahg2UNQwZjWq"
   },
   "outputs": [],
   "source": [
    "RocCurveDisplay.from_estimator(\n",
    "    clf_histboost_cv,X_val,y_val_enc,plot_chance_level=True\n",
    ")\n",
    "plt.grid(True)\n",
    "plt.show()"
   ]
  },
  {
   "cell_type": "code",
   "execution_count": null,
   "id": "y36x71TmZs8F",
   "metadata": {
    "id": "y36x71TmZs8F"
   },
   "outputs": [],
   "source": [
    "y_hat_test = clf_histboost_cv.best_estimator_.predict(X_test)\n",
    "print(f'accuracy: {accuracy_score(y_test_enc, y_hat_test):.2f}')\n",
    "print(f\"f1_score: {f1_score(y_test_enc, y_hat_test, average='weighted'):.2f}\")\n",
    "print(f'matthews_corrcoef: {matthews_corrcoef(y_test_enc, y_hat_test):.2f}')\n",
    "# Calcular el recall por cada clase\n",
    "recall_por_clase = recall_score(y_test_enc, y_hat_test, average=None)\n",
    "# Imprimir el recall por cada clase junto con los nombres\n",
    "for clase, recall in zip(label_encoder.classes_, recall_por_clase):\n",
    "    print(f\"Recall de {clase}: {recall:.2f}\")\n",
    "\n",
    "print(classification_report(y_test_enc,y_hat_test,target_names= label_encoder.classes_))\n",
    "ConfusionMatrixDisplay.from_predictions(y_test_enc, y_hat_test, display_labels= label_encoder.classes_)\n",
    "plt.show()"
   ]
  },
  {
   "cell_type": "markdown",
   "id": "iiUcc9j5DRFV",
   "metadata": {
    "id": "iiUcc9j5DRFV"
   },
   "source": [
    "* Accuracy (0.74): El modelo acierta el 74% de las veces.\n",
    "\n",
    "* F1-score (0.78): Buen equilibrio entre precisión y recall.\n",
    "\n",
    "* MCC (0.35): Correlación moderada entre predicciones y realidad.\n",
    "\n",
    "* Recall diabetes (0.77): Captura bien los casos de diabetes.\n",
    "\n",
    "* Recall no diabetes (0.74): Identifica la mayoría de los no diabéticos."
   ]
  },
  {
   "cell_type": "markdown",
   "id": "zgRLvYy7nZyc",
   "metadata": {
    "id": "zgRLvYy7nZyc"
   },
   "source": [
    "--------------------------------------------------------------------------------\n",
    "Modelo 2\n",
    "--------------------------------------------------------------------------------\n",
    "--------------------------------------------------------------------------------\n"
   ]
  },
  {
   "cell_type": "code",
   "execution_count": null,
   "id": "Nn9zzZPZnjpr",
   "metadata": {
    "id": "Nn9zzZPZnjpr"
   },
   "outputs": [],
   "source": [
    "xgb_pipeline = Pipeline([\n",
    "    (\"preprocessor\", proccesor),\n",
    "    (\"classifier\", XGBClassifier(eval_metric='aucpr', random_state=2025,scale_pos_weight=len(y_train_enc[y_train_enc == 0]) / len(y_train_enc[y_train_enc == 1])))\n",
    "])"
   ]
  },
  {
   "cell_type": "code",
   "execution_count": null,
   "id": "Gvki1lPenjpr",
   "metadata": {
    "id": "Gvki1lPenjpr"
   },
   "outputs": [],
   "source": [
    "param_distributions = {\n",
    "    \"classifier__n_estimators\": [100, 200, 300],\n",
    "    \"classifier__max_depth\": [3, 5, 7, 10],\n",
    "    \"classifier__learning_rate\": [0.01, 0.05, 0.1, 0.2],\n",
    "    \"classifier__subsample\": [0.6, 0.8, 1.0],\n",
    "    \"classifier__colsample_bytree\": [0.6, 0.8, 1.0],\n",
    "    \"classifier__gamma\": [0, 1, 5],\n",
    "    \"classifier__scale_pos_weight\": [1, 5, 10, 20]  # Valores de prueba para el peso de clases\n",
    "}\n",
    "\n",
    "# Usarlo en RandomizedSearchCV\n",
    "clf_xgb_cv = RandomizedSearchCV(\n",
    "    xgb_pipeline,\n",
    "    param_distributions=param_distributions,\n",
    "    n_iter=20,\n",
    "    cv=5,\n",
    "    scoring='f1',\n",
    "    verbose=2,\n",
    "    n_jobs=-1,\n",
    "    random_state=2025\n",
    ")\n",
    "\n",
    "\n",
    "clf_xgb_cv.fit(X_train, y_train_enc)\n",
    "clf_xgb_cv.best_params_"
   ]
  },
  {
   "cell_type": "code",
   "execution_count": null,
   "id": "FthKb9vCnjps",
   "metadata": {
    "collapsed": true,
    "id": "FthKb9vCnjps"
   },
   "outputs": [],
   "source": [
    "y_hat_val = clf_xgb_cv.best_estimator_.predict(X_val)\n",
    "print(f'accuracy: {accuracy_score(y_val_enc, y_hat_val):.2f}')\n",
    "print(f\"f1_score: {f1_score(y_val_enc, y_hat_val, average='weighted'):.2f}\")\n",
    "print(f'matthews_corrcoef: {matthews_corrcoef(y_val_enc, y_hat_val):.2f}')\n",
    "print(classification_report(y_val_enc,y_hat_val,target_names= label_encoder.classes_))\n",
    "ConfusionMatrixDisplay.from_predictions(y_val_enc, y_hat_val, display_labels= label_encoder.classes_)\n",
    "plt.show()"
   ]
  },
  {
   "cell_type": "code",
   "execution_count": null,
   "id": "eFKKvgAvnjpt",
   "metadata": {
    "id": "eFKKvgAvnjpt"
   },
   "outputs": [],
   "source": [
    "y_hat_test = clf_xgb_cv.best_estimator_.predict(X_test)\n",
    "print(f'accuracy: {accuracy_score(y_test_enc, y_hat_test):.2f}')\n",
    "print(f\"f1_score: {f1_score(y_test_enc, y_hat_test, average='weighted'):.2f}\")\n",
    "print(f'matthews_corrcoef: {matthews_corrcoef(y_test_enc, y_hat_test):.2f}')\n",
    "recall_por_clase = recall_score(y_test_enc, y_hat_test, average=None)\n",
    "# Imprimir el recall por cada clase junto con los nombres\n",
    "for clase, recall in zip(label_encoder.classes_, recall_por_clase):\n",
    "    print(f\"Recall de {clase}: {recall:.2f}\")\n",
    "print(classification_report(y_test_enc,y_hat_test,target_names= label_encoder.classes_))\n",
    "ConfusionMatrixDisplay.from_predictions(y_test_enc, y_hat_test, display_labels= label_encoder.classes_)\n",
    "plt.show()"
   ]
  },
  {
   "cell_type": "markdown",
   "id": "CDHtxuGRnjpt",
   "metadata": {
    "id": "CDHtxuGRnjpt"
   },
   "source": [
    "* Accuracy (0.89): El modelo acierta el 89% de las veces.\n",
    "\n",
    "* F1-score (0.85): Buen equilibrio entre precisión y recall.\n",
    "\n",
    "* MCC (0.22): Correlación baja entre predicciones y realidad.\n",
    "\n",
    "* Recall diabetes (0.11): Captura muy poco los casos de diabetes.\n",
    "\n",
    "* Recall no diabetes (0.99): Identifica todos los no diabéticos."
   ]
  },
  {
   "cell_type": "markdown",
   "id": "ONWHWg_XpdVq",
   "metadata": {
    "id": "ONWHWg_XpdVq"
   },
   "source": [
    "--------------------------------------------------------------------------------\n",
    "Modelo 3\n",
    "--------------------------------------------------------------------------------\n",
    "--------------------------------------------------------------------------------\n"
   ]
  },
  {
   "cell_type": "code",
   "execution_count": null,
   "id": "c2IQQ4L7pdVr",
   "metadata": {
    "id": "c2IQQ4L7pdVr"
   },
   "outputs": [],
   "source": [
    "clf_rforest_p = Pipeline([\n",
    "    ('proccesor', proccesor),\n",
    "    ('rforest', RandomForestClassifier(class_weight='balanced', random_state=2025))\n",
    "])"
   ]
  },
  {
   "cell_type": "code",
   "execution_count": null,
   "id": "QYIW-ITwpdVs",
   "metadata": {
    "id": "QYIW-ITwpdVs"
   },
   "outputs": [],
   "source": [
    "clf_rforest_cv = RandomizedSearchCV(\n",
    "    clf_rforest_p,\n",
    "    param_distributions= {\n",
    "        'rforest__n_estimators': [100,150,200],\n",
    "        'rforest__criterion': [\"gini\", \"entropy\"],\n",
    "        'rforest__max_depth': [None, 3,4,5]\n",
    "    },\n",
    "    #n_iter=10,\n",
    "    cv=5,\n",
    "    scoring='f1_weighted',\n",
    "    n_jobs=4, #cambiar 4\n",
    "    random_state=2025\n",
    ")\n",
    "clf_rforest_cv.fit(X_train, y_train_enc)\n",
    "clf_rforest_cv.best_params_"
   ]
  },
  {
   "cell_type": "code",
   "execution_count": null,
   "id": "77bDYuDqpdVt",
   "metadata": {
    "collapsed": true,
    "id": "77bDYuDqpdVt"
   },
   "outputs": [],
   "source": [
    "y_hat_val = clf_rforest_cv.best_estimator_.predict(X_val)\n",
    "print(f'accuracy: {accuracy_score(y_val_enc, y_hat_val):.2f}')\n",
    "print(f\"f1_score: {f1_score(y_val_enc, y_hat_val, average='weighted'):.2f}\")\n",
    "print(f'matthews_corrcoef: {matthews_corrcoef(y_val_enc, y_hat_val):.2f}')\n",
    "print(classification_report(y_val_enc,y_hat_val,target_names= label_encoder.classes_))\n",
    "ConfusionMatrixDisplay.from_predictions(y_val_enc, y_hat_val, display_labels= label_encoder.classes_)\n",
    "plt.show()"
   ]
  },
  {
   "cell_type": "code",
   "execution_count": null,
   "id": "RuzHEqtlpdVt",
   "metadata": {
    "id": "RuzHEqtlpdVt"
   },
   "outputs": [],
   "source": [
    "y_hat_test = clf_rforest_cv.best_estimator_.predict(X_test)\n",
    "print(f'accuracy: {accuracy_score(y_test_enc, y_hat_test):.2f}')\n",
    "print(f\"f1_score: {f1_score(y_test_enc, y_hat_test, average='weighted'):.2f}\")\n",
    "print(f'matthews_corrcoef: {matthews_corrcoef(y_test_enc, y_hat_test):.2f}')\n",
    "recall_por_clase = recall_score(y_test_enc, y_hat_test, average=None)\n",
    "# Imprimir el recall por cada clase junto con los nombres\n",
    "for clase, recall in zip(label_encoder.classes_, recall_por_clase):\n",
    "    print(f\"Recall de {clase}: {recall:.2f}\")\n",
    "print(classification_report(y_test_enc,y_hat_test,target_names= label_encoder.classes_))\n",
    "ConfusionMatrixDisplay.from_predictions(y_test_enc, y_hat_test, display_labels= label_encoder.classes_)\n",
    "plt.show()"
   ]
  },
  {
   "cell_type": "markdown",
   "id": "Le0IEJhLvUnt",
   "metadata": {
    "id": "Le0IEJhLvUnt"
   },
   "source": [
    "* Accuracy (0.87): El modelo acierta el 87% de las veces.\n",
    "\n",
    "* F1-score (0.85): Buen equilibrio entre precisión y recall.\n",
    "\n",
    "* MCC (0.19): Correlación bastante baja entre predicciones y realidad.\n",
    "\n",
    "* Recall diabetes (0.16): Captura muy poco los casos de diabetes.\n",
    "\n",
    "* Recall no diabetes (0.97): Identifica todos los no diabéticos."
   ]
  },
  {
   "cell_type": "markdown",
   "id": "fYIKNKvZupq0",
   "metadata": {
    "id": "fYIKNKvZupq0"
   },
   "source": [
    "--------------------------------------------------------------------------------\n",
    "Modelo 4\n",
    "--------------------------------------------------------------------------------\n",
    "--------------------------------------------------------------------------------\n"
   ]
  },
  {
   "cell_type": "code",
   "execution_count": null,
   "id": "7-r4QcCjupq2",
   "metadata": {
    "id": "7-r4QcCjupq2"
   },
   "outputs": [],
   "source": [
    "clf_histboost_p_smote = ImbPipeline([\n",
    "    ('proccesor', proccesor),  # Tu transformador de datos\n",
    "    ('smote', SMOTE(random_state=2025)),\n",
    "    ('histboost', HistGradientBoostingClassifier(random_state=2025))\n",
    "])"
   ]
  },
  {
   "cell_type": "code",
   "execution_count": null,
   "id": "-ogML4sTxzSd",
   "metadata": {
    "id": "-ogML4sTxzSd"
   },
   "outputs": [],
   "source": [
    "param_distributions = {\n",
    "    'histboost__max_iter': [100, 200, 300],\n",
    "    'histboost__learning_rate': [0.01, 0.05, 0.1],\n",
    "    'histboost__max_depth': [3, 4, 5, None],\n",
    "}\n",
    "\n",
    "clf_histboost_cv_smote = RandomizedSearchCV(\n",
    "    clf_histboost_p_smote,\n",
    "    param_distributions=param_distributions,\n",
    "    n_iter=10,\n",
    "    cv=5,\n",
    "    scoring='f1_weighted',\n",
    "    n_jobs=-1,\n",
    "    random_state=2025\n",
    ")\n",
    "\n",
    "clf_histboost_cv_smote.fit(X_train, y_train_enc)\n",
    "\n",
    "clf_histboost_cv_smote.best_params_"
   ]
  },
  {
   "cell_type": "code",
   "execution_count": null,
   "id": "joRZTFGGupq5",
   "metadata": {
    "collapsed": true,
    "id": "joRZTFGGupq5"
   },
   "outputs": [],
   "source": [
    "y_hat_val = clf_histboost_cv_smote.best_estimator_.predict(X_val)\n",
    "print(f'accuracy: {accuracy_score(y_val_enc, y_hat_val):.2f}')\n",
    "print(f\"f1_score: {f1_score(y_val_enc, y_hat_val, average='weighted'):.2f}\")\n",
    "print(f'matthews_corrcoef: {matthews_corrcoef(y_val_enc, y_hat_val):.2f}')\n",
    "print(classification_report(y_val_enc,y_hat_val,target_names= label_encoder.classes_))\n",
    "ConfusionMatrixDisplay.from_predictions(y_val_enc, y_hat_val, display_labels= label_encoder.classes_)\n",
    "plt.show()"
   ]
  },
  {
   "cell_type": "code",
   "execution_count": null,
   "id": "jxYXLiL3upq5",
   "metadata": {
    "id": "jxYXLiL3upq5"
   },
   "outputs": [],
   "source": [
    "y_hat_test = clf_histboost_cv_smote.best_estimator_.predict(X_test)\n",
    "print(f'accuracy: {accuracy_score(y_test_enc, y_hat_test):.2f}')\n",
    "print(f\"f1_score: {f1_score(y_test_enc, y_hat_test, average='weighted'):.2f}\")\n",
    "print(f'matthews_corrcoef: {matthews_corrcoef(y_test_enc, y_hat_test):.2f}')\n",
    "recall_por_clase = recall_score(y_test_enc, y_hat_test, average=None)\n",
    "# Imprimir el recall por cada clase junto con los nombres\n",
    "for clase, recall in zip(label_encoder.classes_, recall_por_clase):\n",
    "    print(f\"Recall de {clase}: {recall:.2f}\")\n",
    "print(classification_report(y_test_enc,y_hat_test,target_names= label_encoder.classes_))\n",
    "ConfusionMatrixDisplay.from_predictions(y_test_enc, y_hat_test, display_labels= label_encoder.classes_)\n",
    "plt.show()"
   ]
  },
  {
   "cell_type": "markdown",
   "id": "4kBxs6YjygZ9",
   "metadata": {
    "id": "4kBxs6YjygZ9"
   },
   "source": [
    "* Accuracy (0.88): El modelo acierta el 88% de las veces.\n",
    "\n",
    "* F1-score (0.87): Buen equilibrio entre precisión y recall.\n",
    "\n",
    "* MCC (0.31): Correlación buena entre predicciones y realidad.\n",
    "\n",
    "* Recall diabetes (0.31): Captura la mitad de los casos de diabetes.\n",
    "\n",
    "* Recall no diabetes (0.95): Identifica la mayoría de los no diabéticos."
   ]
  },
  {
   "cell_type": "markdown",
   "id": "a2WT7VHPW8oj",
   "metadata": {
    "id": "a2WT7VHPW8oj"
   },
   "source": [
    "## **8. Visualización del modelo**"
   ]
  },
  {
   "cell_type": "code",
   "execution_count": null,
   "id": "9C3ZRAK4ZoCA",
   "metadata": {
    "id": "9C3ZRAK4ZoCA"
   },
   "outputs": [],
   "source": [
    "# Importancia por permutación con modelo óptimo\n",
    "importance = permutation_importance(\n",
    "    clf_histboost_cv.best_estimator_,\n",
    "    X_train,\n",
    "    y_train_enc,\n",
    "    n_repeats=15,\n",
    "    random_state=42,\n",
    "    n_jobs=-1\n",
    ")\n",
    "\n",
    "# DataFrame de importancias\n",
    "importance_df = pd.DataFrame(importance.importances.T, columns=X_train.columns)\n",
    "\n",
    "# Ordenar por importancia mediana\n",
    "median_importances = importance_df.median().sort_values(ascending=True)\n",
    "importance_df = importance_df[median_importances.index]\n",
    "\n",
    "# Boxplot\n",
    "fig, ax = plt.subplots(figsize=(10, 8))\n",
    "importance_df.plot.box(vert=False, ax=ax)\n",
    "ax.axvline(x=0, color=\"k\", linestyle=\"--\")\n",
    "ax.set_title(\"Importancia por Permutación (conjunto de entrenamiento)\")\n",
    "ax.set_xlabel(\"Cambio en F1 ponderado\")\n",
    "ax.grid(True)\n",
    "plt.tight_layout()\n",
    "plt.show()\n",
    "\n",
    "top_vars = median_importances.sort_values(ascending=False).head(5)\n",
    "print(\"Top 5 variables más importantes:\\n\", top_vars)\n"
   ]
  },
  {
   "cell_type": "markdown",
   "id": "9DYi0hrLGhhL",
   "metadata": {
    "id": "9DYi0hrLGhhL"
   },
   "source": [
    "El análisis identifica las cinco variables más influyentes en el modelo, proporcionando información clave sobre los factores que pueden estar relacionados con la diabetes:\n",
    "\n",
    "1. **Genhlth (Salud General) – 0.024335**  \n",
    "   - La variable con mayor peso en el análisis, lo que sugiere que la percepción general de la salud podría ser un fuerte predictor de diabetes. \n",
    "\n",
    "2. **Physhlth (Días de problemas físicos en el último mes) – 0.003842**  \n",
    "   - Este indicador refleja el impacto físico de la enfermedad en la calidad de vida del paciente. Un mayor número de días con problemas físicos podría correlacionarse con complicaciones derivadas de la diabetes.  \n",
    "\n",
    "3. **BMI (Índice de Masa Corporal) – 0.003380**  \n",
    "   - La obesidad es uno de los principales factores de riesgo para el desarrollo de diabetes tipo 2. Un IMC elevado suele estar asociado con resistencia a la insulina y problemas metabólicos.  \n",
    "\n",
    "4. **Age (Edad) – 0.002219**  \n",
    "   - La edad juega un papel crucial en la diabetes, ya que el riesgo de desarrollar la enfermedad aumenta significativamente con el envejecimiento.\n",
    "\n",
    "5. **HvyAlcoholConsump (Consumo excesivo de alcohol) – 0.001577**  \n",
    "   - Aunque el consumo de alcohol no siempre está directamente asociado con la diabetes, su abuso puede influir negativamente en el metabolismo y la resistencia a la insulina. También puede contribuir al aumento de peso, otro factor de riesgo clave.  \n"
   ]
  },
  {
   "cell_type": "code",
   "execution_count": null,
   "id": "rpjZM2OdGgcv",
   "metadata": {
    "id": "rpjZM2OdGgcv"
   },
   "outputs": [],
   "source": [
    "modelos = {\n",
    "    \"Modelo_histboost\": clf_histboost_cv.best_estimator_.predict(X_test), # mejor modelo\n",
    "    \"Modelo_histboost_smote\": clf_histboost_cv_smote.best_estimator_.predict(X_test),\n",
    "    \"Modelo_xgb\": clf_xgb_cv.best_estimator_.predict(X_test),\n",
    "    \"Modelo_rforest\": clf_rforest_cv.best_estimator_.predict(X_test),\n",
    "}\n",
    "\n",
    "# Crear un DataFrame para almacenar los resultados\n",
    "metricas_lista = []\n",
    "\n",
    "for nombre_modelo, y_pred in modelos.items():\n",
    "    accuracy = accuracy_score(y_test_enc, y_pred)\n",
    "    f1 = f1_score(y_test_enc, y_pred, average=\"weighted\")\n",
    "    mcc = matthews_corrcoef(y_test_enc, y_pred)\n",
    "    precision_por_clase = precision_score(y_test_enc, y_pred, average=None)\n",
    "    recall_por_clase = recall_score(y_test_enc, y_pred, average=None)\n",
    "\n",
    "    metricas_dict = {\n",
    "        \"Modelo\": nombre_modelo,\n",
    "        \"Accuracy\": accuracy,\n",
    "        \"F1-Score\": f1,\n",
    "        \"Matthews CorrCoef\": mcc\n",
    "    }\n",
    "\n",
    "    # Agregar el recall y la precisión por clase\n",
    "    for clase, precision, recall in zip(label_encoder.classes_, precision_por_clase, recall_por_clase):\n",
    "        metricas_dict[f\"Precision_{clase}\"] = precision\n",
    "        metricas_dict[f\"Recall_{clase}\"] = recall\n",
    "\n",
    "    metricas_lista.append(metricas_dict)\n",
    "\n",
    "# Convertir a DataFrame\n",
    "df_metricas = pd.DataFrame(metricas_lista)\n",
    "\n",
    "# Guardar en CSV\n",
    "df_metricas.to_csv(\"metricas_modelos.csv\", index=False)\n",
    "\n",
    "print(\"Métricas guardadas en metricas_modelos.csv\")"
   ]
  },
  {
   "cell_type": "code",
   "execution_count": null,
   "id": "cYsYVYaF2tJf",
   "metadata": {
    "id": "cYsYVYaF2tJf"
   },
   "outputs": [],
   "source": [
    "df_metricas"
   ]
  },
  {
   "cell_type": "markdown",
   "id": "Qy7iaZ1i0k52",
   "metadata": {
    "id": "Qy7iaZ1i0k52"
   },
   "source": [
    "## **9.Conclusiones y Recomendaciones**\n",
    "El mejor modelo que se encontro fue el modelo 1, usando el algoritmo HistGradientBoostingClassifier.Estos resultados ofrecen una visión clara del desempeño del modelo en la clasificación de diabetes.\n",
    "\n",
    "#### **Rendimiento general**\n",
    "- La **exactitud (accuracy) del 74%** indica un desempeño aceptable.\n",
    "- La **F1-score de 0.78** refleja un buen equilibrio entre precisión y sensibilidad.\n",
    "\n",
    "#### **Análisis de clasificación**\n",
    "- El **recall de 0.77** para la categoría de diabetes sugiere que el modelo identifica correctamente la mayoría de los pacientes con diabetes.\n",
    "- Sin embargo, la **precisión para diabetes es baja (0.27)**, lo que significa que hay muchos falsos positivos.\n",
    "- La categoría **\"no diabetes\" tiene un recall de 0.73 y una precisión de 0.96**, lo que indica que el modelo identifica bien a los pacientes sanos, pero puede estar sobreestimando la cantidad de personas sin diabetes.\n",
    "\n",
    "#### **Matthews Correlation Coefficient (MCC)**\n",
    "- El **MCC de 0.34** indica una correlación aceptable entre las predicciones y los valores reales.\n",
    "\n",
    "En resumen, el modelo es efectivo en la detección de pacientes con diabetes, pero con baja precisión en esa clase.\n"
   ]
  },
  {
   "cell_type": "markdown",
   "id": "4777a4f2",
   "metadata": {
    "id": "4777a4f2"
   },
   "source": [
    "## **10. Referencias**\n",
    "\n",
    "* [1] Diabetes World Health Organization. (9 de Abril del 2025). *Definicion de la diabetes*, enlace https://www.who.int/es/news-room/fact-sheets/detail/diabetes\n",
    "* [2] National Institute of Diabetes and Digestive and Kidney Disease (NIH). (9 Abril del 2025). *¿Qué es la Diabetes?*, enlace https://www.niddk.nih.gov/health-information/informacion-de-la-salud/diabetes/informacion-general/que-es\n",
    "* [3] Share Care. (9 Abril del 2025). *The Cost of Diabetes in the U.S.: Economic and Well-Being Impact*, enlace https://wellbeingindex-sharecare-com.translate.goog/diabetes-us-economic-well-being-impact/?_x_tr_sl=en&_x_tr_tl=es&_x_tr_hl=es&_x_tr_pto=tc\n",
    "* [4] Centers for Disease Control and Prevention. (CDC). (2025, abril 9). *Behavioral Risk Factor Surveillance System*. Recuperado de [https://www.cdc.gov/brfss/about/brfss_faq.htm](https://www.cdc.gov/brfss/about/brfss_faq.htm)  \n",
    "* [5] Centers for Disease Control and Prevention. (CDC). (2015). *2015 calculated variables: age*. Recuperado de [https://www.cdc.gov/brfss/annual_data/2015/pdf/2015_calculated_variables_version4.pdf](https://www.cdc.gov/brfss/annual_data/2015/pdf/2015_calculated_variables_version4.pdf)  \n",
    "* [6] Wikipedia. (n.d.). (21 de Abril de 20205). *Body mass index*. Recuperado de [https://en.wikipedia.org/wiki/Body_mass_index](https://en.wikipedia.org/wiki/Body_mass_index)  "
   ]
  },
  {
   "cell_type": "markdown",
   "id": "32a200e1",
   "metadata": {},
   "source": [
    "-----------------------------------------------------------------------------------------------------------------------------------------\n",
    "Guardar el modelo\n",
    "-----------------------------------------------------------------------------------------------------------------------------------------\n",
    "-----------------------------------------------------------------------------------------------------------------------------------------\n"
   ]
  },
  {
   "cell_type": "code",
   "execution_count": null,
   "id": "3514899b",
   "metadata": {},
   "outputs": [],
   "source": [
    "model_dict = {\n",
    "    \"model\": clf_histboost_cv,\n",
    "    \"predictors\": X_train.columns,\n",
    "    \"algorithm_name\": \"HistGradientBoostingClassifier\",\n",
    "    \"metrics\": \"accuracy: 0.74, f1 score: 0.78, Matthews Correlation Coefficient: 0.34\",\n",
    "    \"author\" : \"Nallely Quintero, Esteban Cordova\",\n",
    "    \"classes\" : \"0:no_diabetes,1:diabetes\"\n",
    "} \n"
   ]
  },
  {
   "cell_type": "code",
   "execution_count": null,
   "id": "aa112554",
   "metadata": {},
   "outputs": [],
   "source": [
    "with open(\"../app/models/diabetes_histboost_model.pkl\", \"wb\") as diabetes_hist:\n",
    "    pickle.dump(clf_histboost_cv, diabetes_hist)"
   ]
  }
 ],
 "metadata": {
  "colab": {
   "gpuType": "T4",
   "provenance": []
  },
  "kernelspec": {
   "display_name": ".venv",
   "language": "python",
   "name": "python3"
  },
  "language_info": {
   "codemirror_mode": {
    "name": "ipython",
    "version": 3
   },
   "file_extension": ".py",
   "mimetype": "text/x-python",
   "name": "python",
   "nbconvert_exporter": "python",
   "pygments_lexer": "ipython3",
   "version": "3.12.1"
  }
 },
 "nbformat": 4,
 "nbformat_minor": 5
}
